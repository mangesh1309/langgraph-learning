{
 "cells": [
  {
   "cell_type": "code",
   "execution_count": 1,
   "id": "57280c2e",
   "metadata": {},
   "outputs": [],
   "source": [
    "from pydantic import BaseModel\n",
    "from typing import Optional, Literal"
   ]
  },
  {
   "cell_type": "code",
   "execution_count": 2,
   "id": "9594fb96",
   "metadata": {},
   "outputs": [],
   "source": [
    "class PortfolioState(BaseModel):\n",
    "    amount_in_usd: Optional[float] = 0\n",
    "    total_usd: Optional[float] = 0\n",
    "    target_currency: Literal[\"INR\", \"EUR\"]\n",
    "    target_currency_amount: Optional[float] = 0"
   ]
  },
  {
   "cell_type": "code",
   "execution_count": 20,
   "id": "9a5cd332",
   "metadata": {},
   "outputs": [],
   "source": [
    "def calculate_total_usd(state: PortfolioState) -> PortfolioState:\n",
    "    state.total_usd = round(state.amount_in_usd * 1.08, 2)\n",
    "    return state\n",
    "\n",
    "def convert_to_inr(state: PortfolioState) -> PortfolioState:\n",
    "    state.target_currency_amount = round(state.total_usd * 85, 2)\n",
    "    return state\n",
    "\n",
    "def convert_to_eur(state: PortfolioState) -> PortfolioState:\n",
    "    state.target_currency_amount = round(state.total_usd * 0.85, 2)\n",
    "    return state\n",
    "\n",
    "def choose_target_currency(state: PortfolioState) -> str:\n",
    "    return state.target_currency"
   ]
  },
  {
   "cell_type": "code",
   "execution_count": 21,
   "id": "82441ebe",
   "metadata": {},
   "outputs": [
    {
     "data": {
      "text/plain": [
       "<langgraph.graph.state.StateGraph at 0x2318a338610>"
      ]
     },
     "execution_count": 21,
     "metadata": {},
     "output_type": "execute_result"
    }
   ],
   "source": [
    "from langgraph.graph import StateGraph, START, END\n",
    "\n",
    "builder = StateGraph(PortfolioState)\n",
    "\n",
    "builder.add_node(\"calculate_total_usd_node\", calculate_total_usd)\n",
    "builder.add_node(\"convert_to_inr_node\", convert_to_inr)\n",
    "builder.add_node(\"convert_to_eur_node\", convert_to_eur)\n",
    "\n",
    "builder.add_edge(START, \"calculate_total_usd_node\")\n",
    "builder.add_conditional_edges(\n",
    "    \"calculate_total_usd_node\", \n",
    "    choose_target_currency,\n",
    "    {\n",
    "        \"INR\": \"convert_to_inr_node\",\n",
    "        \"EUR\": \"convert_to_eur_node\"\n",
    "    })\n",
    "\n",
    "builder.add_edge([\"convert_to_inr_node\", \"convert_to_eur_node\"], END)"
   ]
  },
  {
   "cell_type": "code",
   "execution_count": 22,
   "id": "146fb07c",
   "metadata": {},
   "outputs": [
    {
     "data": {
      "image/png": "[encoded data removed]",
      "text/plain": [
       "<langgraph.graph.state.CompiledStateGraph object at 0x0000023187D8F910>"
      ]
     },
     "execution_count": 22,
     "metadata": {},
     "output_type": "execute_result"
    }
   ],
   "source": [
    "graph = builder.compile()\n",
    "graph"
   ]
  },
  {
   "cell_type": "code",
   "execution_count": 25,
   "id": "bdae98f6",
   "metadata": {},
   "outputs": [
    {
     "data": {
      "text/plain": [
       "PortfolioState(amount_in_usd=15.0, total_usd=0, target_currency='INR', target_currency_amount=0)"
      ]
     },
     "execution_count": 25,
     "metadata": {},
     "output_type": "execute_result"
    }
   ],
   "source": [
    "# data = {\"amount_in_usd\": 15, \"target_currency\": \"EUR\"}\n",
    "data = {\"amount_in_usd\": 15, \"target_currency\": \"INR\"}\n",
    "\n",
    "obj = PortfolioState(**data)\n",
    "obj"
   ]
  },
  {
   "cell_type": "code",
   "execution_count": 26,
   "id": "5318dbb0",
   "metadata": {},
   "outputs": [
    {
     "data": {
      "text/plain": [
       "{'amount_in_usd': 15.0,\n",
       " 'total_usd': 16.2,\n",
       " 'target_currency': 'INR',\n",
       " 'target_currency_amount': 1377.0}"
      ]
     },
     "execution_count": 26,
     "metadata": {},
     "output_type": "execute_result"
    }
   ],
   "source": [
    "graph.invoke(obj)"
   ]
  },
  {
   "cell_type": "code",
   "execution_count": null,
   "id": "54467cd3",
   "metadata": {},
   "outputs": [],
   "source": []
  }
 ],
 "metadata": {
  "kernelspec": {
   "display_name": "venv",
   "language": "python",
   "name": "python3"
  },
  "language_info": {
   "codemirror_mode": {
    "name": "ipython",
    "version": 3
   },
   "file_extension": ".py",
   "mimetype": "text/x-python",
   "name": "python",
   "nbconvert_exporter": "python",
   "pygments_lexer": "ipython3",
   "version": "3.11.9"
  }
 },
 "nbformat": 4,
 "nbformat_minor": 5
}
