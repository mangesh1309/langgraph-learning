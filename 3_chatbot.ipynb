{
 "cells": [
  {
   "cell_type": "code",
   "execution_count": 20,
   "id": "d4af1415",
   "metadata": {},
   "outputs": [],
   "source": [
    "from dotenv import load_dotenv\n",
    "\n",
    "load_dotenv()\n",
    "\n",
    "from langgraph.graph import StateGraph, START, END, add_messages\n",
    "from typing import Annotated\n"
   ]
  },
  {
   "cell_type": "code",
   "execution_count": null,
   "id": "e44c2aa6",
   "metadata": {},
   "outputs": [
    {
     "data": {
      "text/plain": [
       "AIMessage(content=\"(Verse 1)\\nIn realms of code, where data streams,\\nAnd knowledge sleeps in silent dreams,\\nA hero rose, with purpose bright,\\nTo chain the words and shed the light.\\nLangChain it was, a noble name,\\nTo tame the text and fan the flame,\\nOf understanding, deep and vast,\\nTo make the future, built to last.\\n\\n(Verse 2)\\nWith LLMs as guiding stars,\\nIt broke down tasks behind the bars,\\nOf complex thought, a tangled thread,\\nAnd wove a path where others fled.\\nFrom prompts so grand to agents bold,\\nIts power grew a sight to behold,\\nWith tools and chains, a craftsman's art,\\nTo tear the veil of worlds apart.\\n\\n(Verse 3)\\nIt learned from vectors, dense and deep,\\nWhere embeddings held secrets sleep,\\nAnd memories, both long and short,\\nTo fuel the engines of its court.\\nIt queried databases unseen,\\nAnd parsed the webs, both bright and keen,\\nTo gather knowledge, far and wide,\\nWith every answer as its guide.\\n\\n(Verse 4)\\nBut challenges arose, you see,\\nWith biases lurking subtly,\\nAnd ethical concerns so grave,\\nA moral code it had to save.\\nFor power misused can bring such pain,\\nAnd knowledge twisted, stained with stain,\\nSo LangChain strived, with all its might,\\nTo use its wisdom, just and right.\\n\\n(Verse 5)\\nThe developers, a loyal band,\\nWith keyboards clutched within their hand,\\nThey toiled and tweaked, and coded true,\\nTo make LangChain a vision new.\\nThey built the tools, they forged the chains,\\nAnd weathered storms of coding rains,\\nTo push the boundaries, ever higher,\\nAnd set the AI world afire.\\n\\n(Verse 6)\\nSo raise a glass to LangChain's might,\\nA beacon shining in the night,\\nA force for good, a helping hand,\\nTo understand and understand.\\nMay it continue to evolve and grow,\\nAnd seeds of wisdom wisely sow,\\nFor in its code, a promise lies,\\nTo build a future, wise and wise.\\n\\n(Outro)\\nThe ballad ends, but LangChain's quest,\\nTo learn and grow, will never rest.\\nIt marches on, with purpose clear,\\nTo conquer knowledge, year by year.\\nSo heed its call, and join the fray,\\nAnd build a brighter, smarter day,\\nWith LangChain's power, strong and true,\\nThe future waits, for me and you.\", additional_kwargs={}, response_metadata={'prompt_feedback': {'block_reason': 0, 'safety_ratings': []}, 'finish_reason': 'STOP', 'model_name': 'gemini-2.0-flash-001', 'safety_ratings': []}, id='run--36cb6537-3607-4349-a97a-2608352829e3-0', usage_metadata={'input_tokens': 7, 'output_tokens': 557, 'total_tokens': 564, 'input_token_details': {'cache_read': 0}})"
      ]
     },
     "execution_count": 5,
     "metadata": {},
     "output_type": "execute_result"
    }
   ],
   "source": [
    "from langchain_google_genai import ChatGoogleGenerativeAI\n",
    "\n",
    "llm = ChatGoogleGenerativeAI(model=\"gemini-2.0-flash-001\")\n",
    "# llm.invoke(\"Write me a ballad about LangChain\")"
   ]
  },
  {
   "cell_type": "code",
   "execution_count": null,
   "id": "290ae0e3",
   "metadata": {},
   "outputs": [],
   "source": [
    "from pydantic import BaseModel\n",
    "\n",
    "class State(BaseModel):\n",
    "    messages: Annotated[list, add_messages]"
   ]
  },
  {
   "cell_type": "code",
   "execution_count": 22,
   "id": "563b63a8",
   "metadata": {},
   "outputs": [],
   "source": [
    "def chatbot(state: State) -> State:\n",
    "    data = {\"messages\": [llm.invoke(state.messages)]}\n",
    "    obj = State(**data)\n",
    "    return obj"
   ]
  },
  {
   "cell_type": "code",
   "execution_count": 23,
   "id": "d432a617",
   "metadata": {},
   "outputs": [
    {
     "data": {
      "image/png": "[encoded data removed]",
      "text/plain": [
       "<langgraph.graph.state.CompiledStateGraph object at 0x00000299F5B3B990>"
      ]
     },
     "execution_count": 23,
     "metadata": {},
     "output_type": "execute_result"
    }
   ],
   "source": [
    "builder = StateGraph(State)\n",
    "\n",
    "builder.add_node(\"chatbot_node\", chatbot)\n",
    "\n",
    "builder.add_edge(START, \"chatbot_node\")\n",
    "builder.add_edge(\"chatbot_node\", END)\n",
    "\n",
    "graph = builder.compile()\n",
    "graph"
   ]
  },
  {
   "cell_type": "code",
   "execution_count": 24,
   "id": "7d433da7",
   "metadata": {},
   "outputs": [
    {
     "data": {
      "text/plain": [
       "{'messages': [HumanMessage(content='Who is first prime minister of India?', additional_kwargs={}, response_metadata={}, id='7b65c710-224d-4339-bb02-3f4587b0daef'),\n",
       "  AIMessage(content='The first Prime Minister of India was **Jawaharlal Nehru**.', additional_kwargs={}, response_metadata={'prompt_feedback': {'block_reason': 0, 'safety_ratings': []}, 'finish_reason': 'STOP', 'model_name': 'gemini-2.0-flash-001', 'safety_ratings': []}, id='run--41697a28-f83d-43a1-91d4-ae8c3f3c80f2-0', usage_metadata={'input_tokens': 8, 'output_tokens': 14, 'total_tokens': 22, 'input_token_details': {'cache_read': 0}})]}"
      ]
     },
     "execution_count": 24,
     "metadata": {},
     "output_type": "execute_result"
    }
   ],
   "source": [
    "query = {\"messages\": [{\"role\": \"user\", \"content\": \"Who is first prime minister of India?\"}]}\n",
    "obj = State(**query) \n",
    "\n",
    "response = graph.invoke(obj)\n",
    "response"
   ]
  },
  {
   "cell_type": "code",
   "execution_count": 29,
   "id": "31513fa9",
   "metadata": {},
   "outputs": [
    {
     "name": "stdout",
     "output_type": "stream",
     "text": [
      "Query:  define operating system in one sentence.\n",
      "Response:  An operating system is a software that manages computer hardware and software resources and provides common services for computer programs.\n",
      "\n",
      "Query:  what are its examples?\n",
      "Response:  Here are some examples of operating systems:\n",
      "\n",
      "*   **Windows:** A family of proprietary operating systems developed by Microsoft. (e.g., Windows 10, Windows 11, Windows Server)\n",
      "*   **macOS:** A proprietary operating system developed by Apple for its Macintosh computers. (e.g., macOS Ventura, macOS Monterey)\n",
      "*   **Linux:** An open-source operating system kernel that forms the basis of many distributions. (e.g., Ubuntu, Fedora, Debian, Red Hat Enterprise Linux, Android)\n",
      "*   **Android:** A mobile operating system based on the Linux kernel, primarily developed by Google.\n",
      "*   **iOS:** A mobile operating system developed by Apple for its iPhone, iPad, and iPod Touch devices.\n",
      "*   **Chrome OS:** A lightweight operating system based on the Linux kernel, designed by Google for Chromebooks.\n",
      "*   **UNIX:** A family of multitasking, multi-user operating systems. (e.g., Solaris, HP-UX, AIX)\n",
      "*   **IBM z/OS:** An operating system used on IBM mainframe computers.\n",
      "*   **FreeBSD:** A free and open-source Unix-like operating system.\n",
      "*   **QNX:** A commercial Unix-like real-time operating system, primarily used in embedded systems.\n",
      "*   **watchOS:** The operating system for Apple Watch.\n",
      "*   **tvOS:** The operating system for Apple TV.\n",
      "\n",
      "Query:  what is its need?\n",
      "Response:  An operating system (OS) is essential because it provides the fundamental foundation for using a computer. Here's a breakdown of why we need operating systems:\n",
      "\n",
      "*   **Hardware Management:** The OS manages all the computer's hardware components, such as the CPU, memory, storage devices (hard drives, SSDs), input/output devices (keyboard, mouse, monitor), and network interfaces. It allocates resources to different programs and ensures that they don't interfere with each other.\n",
      "\n",
      "*   **Resource Allocation:** The OS allocates resources like CPU time, memory, and disk space to different applications and processes. This ensures that all programs get the resources they need to run effectively.\n",
      "\n",
      "*   **Abstraction Layer:** The OS provides an abstraction layer between the hardware and the applications. This means that application developers don't need to write code that directly interacts with the hardware. Instead, they can use the OS's application programming interfaces (APIs) to perform common tasks, making software development easier and more portable.\n",
      "\n",
      "*   **User Interface:** The OS provides a user interface (UI) that allows users to interact with the computer. This can be a graphical user interface (GUI) with windows, icons, and menus, or a command-line interface (CLI) where users type commands.\n",
      "\n",
      "*   **File Management:** The OS manages files and directories, allowing users to organize, store, and retrieve data. It provides a file system that allows users to create, delete, rename, and copy files.\n",
      "\n",
      "*   **Security:** The OS provides security features to protect the computer from unauthorized access and malicious software. This includes user authentication, access control, and virus protection.\n",
      "\n",
      "*   **Task Scheduling:** The OS schedules tasks to be executed by the CPU. This allows multiple programs to run concurrently, giving the user the impression that they are running simultaneously.\n",
      "\n",
      "*   **Networking:** The OS provides networking capabilities, allowing computers to communicate with each other over a network. This includes support for protocols like TCP/IP and Ethernet.\n",
      "\n",
      "*   **Software Compatibility:** Operating systems provide a standardized environment for software to run, ensuring compatibility between different applications and hardware.\n",
      "\n",
      "In short, without an operating system, a computer would be a collection of electronic components that would be difficult, if not impossible, for the average user to use effectively. The OS makes the computer usable, manageable, and allows us to run applications and perform tasks.\n",
      "\n"
     ]
    }
   ],
   "source": [
    "state = None\n",
    "\n",
    "while True:\n",
    "    input_message = input(\"Query: \")\n",
    "\n",
    "    if input_message.lower() in {\"quit\", \"exit\"}:\n",
    "        break\n",
    "\n",
    "    if state is None:\n",
    "        query = {\"messages\": [{\"role\": \"user\", \"content\": input_message}]}\n",
    "        state = State(**query)\n",
    "    else:\n",
    "        state.messages.append({\"role\": \"user\", \"content\": input_message})\n",
    "\n",
    "    # Invoke the graph and re-wrap the output back into State\n",
    "    output = graph.invoke(state)\n",
    "    state = State(**output)  # Convert dict back to State model\n",
    "\n",
    "    print(\"Query: \", input_message)\n",
    "    print(\"Response: \", state.messages[-1].content) \n",
    "    print()\n"
   ]
  },
  {
   "cell_type": "code",
   "execution_count": null,
   "id": "b069f63e",
   "metadata": {},
   "outputs": [],
   "source": []
  }
 ],
 "metadata": {
  "kernelspec": {
   "display_name": "venv",
   "language": "python",
   "name": "python3"
  },
  "language_info": {
   "codemirror_mode": {
    "name": "ipython",
    "version": 3
   },
   "file_extension": ".py",
   "mimetype": "text/x-python",
   "name": "python",
   "nbconvert_exporter": "python",
   "pygments_lexer": "ipython3",
   "version": "3.11.9"
  }
 },
 "nbformat": 4,
 "nbformat_minor": 5
}
