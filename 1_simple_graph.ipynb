{
 "cells": [
  {
   "cell_type": "code",
   "execution_count": 32,
   "id": "30df7fc6",
   "metadata": {},
   "outputs": [],
   "source": [
    "from pydantic import BaseModel\n",
    "from typing import Optional"
   ]
  },
  {
   "cell_type": "code",
   "execution_count": 39,
   "id": "670d880c",
   "metadata": {},
   "outputs": [],
   "source": [
    "\n",
    "class PortfolioState(BaseModel):\n",
    "    amount_in_usd: Optional[float] = 0\n",
    "    total_usd: Optional[float] = 0\n",
    "    total_amount_in_inr: Optional[float] = 0"
   ]
  },
  {
   "cell_type": "code",
   "execution_count": 40,
   "id": "9459d610",
   "metadata": {},
   "outputs": [],
   "source": [
    "def calculate_total_usd(state: PortfolioState) -> PortfolioState:\n",
    "    state.total_usd = state.amount_in_usd * 1.08\n",
    "    return state\n",
    "\n",
    "def convert_to_inr(state: PortfolioState) -> PortfolioState:\n",
    "    state.total_amount_in_inr = state.total_usd * 85\n",
    "    return state"
   ]
  },
  {
   "cell_type": "code",
   "execution_count": 41,
   "id": "4f57f34c",
   "metadata": {},
   "outputs": [],
   "source": [
    "from langgraph.graph import StateGraph, START, END\n",
    "\n",
    "builder = StateGraph(PortfolioState)\n",
    "\n",
    "builder.add_node(\"calculate_total_usd_node\", calculate_total_usd)\n",
    "builder.add_node(\"convert_to_inr_node\", convert_to_inr)\n",
    "\n",
    "builder.add_edge(START, \"calculate_total_usd_node\")\n",
    "builder.add_edge(\"calculate_total_usd_node\", \"convert_to_inr_node\")\n",
    "builder.add_edge(\"convert_to_inr_node\", END)\n",
    "\n",
    "graph = builder.compile()"
   ]
  },
  {
   "cell_type": "code",
   "execution_count": 42,
   "id": "7be29092",
   "metadata": {},
   "outputs": [
    {
     "data": {
      "image/png": "[encoded data removed]",
      "text/plain": [
       "<langgraph.graph.state.CompiledStateGraph object at 0x000002496E369150>"
      ]
     },
     "execution_count": 42,
     "metadata": {},
     "output_type": "execute_result"
    }
   ],
   "source": [
    "graph"
   ]
  },
  {
   "cell_type": "code",
   "execution_count": 36,
   "id": "a730c6b1",
   "metadata": {},
   "outputs": [],
   "source": [
    "initial_state = {\"amount_in_usd\": 10}\n",
    "obj = PortfolioState(**initial_state)"
   ]
  },
  {
   "cell_type": "code",
   "execution_count": 37,
   "id": "f3dddb41",
   "metadata": {},
   "outputs": [
    {
     "data": {
      "text/plain": [
       "{'amount_in_usd': 10.0,\n",
       " 'total_usd': 10.8,\n",
       " 'total_amount_in_inr': 918.0000000000001}"
      ]
     },
     "execution_count": 37,
     "metadata": {},
     "output_type": "execute_result"
    }
   ],
   "source": [
    "graph.invoke(obj)"
   ]
  }
 ],
 "metadata": {
  "kernelspec": {
   "display_name": "venv",
   "language": "python",
   "name": "python3"
  },
  "language_info": {
   "codemirror_mode": {
    "name": "ipython",
    "version": 3
   },
   "file_extension": ".py",
   "mimetype": "text/x-python",
   "name": "python",
   "nbconvert_exporter": "python",
   "pygments_lexer": "ipython3",
   "version": "3.11.9"
  }
 },
 "nbformat": 4,
 "nbformat_minor": 5
}
